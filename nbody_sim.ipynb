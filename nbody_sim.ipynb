{
  "nbformat": 4,
  "nbformat_minor": 0,
  "metadata": {
    "colab": {
      "provenance": [],
      "gpuType": "T4",
      "generative_ai_disabled": true,
      "authorship_tag": "ABX9TyNXUv2XguFEhDVdEKT+hgAE",
      "include_colab_link": true
    },
    "kernelspec": {
      "name": "python3",
      "display_name": "Python 3"
    },
    "language_info": {
      "name": "python"
    },
    "accelerator": "GPU"
  },
  "cells": [
    {
      "cell_type": "markdown",
      "metadata": {
        "id": "view-in-github",
        "colab_type": "text"
      },
      "source": [
        "<a href=\"https://colab.research.google.com/github/vanigupta123/nbody_sim/blob/main/nbody_sim.ipynb\" target=\"_parent\"><img src=\"https://colab.research.google.com/assets/colab-badge.svg\" alt=\"Open In Colab\"/></a>"
      ]
    },
    {
      "cell_type": "code",
      "execution_count": 3,
      "metadata": {
        "colab": {
          "base_uri": "https://localhost:8080/"
        },
        "id": "JsHWf3dUottp",
        "outputId": "5f702b4d-5b44-44ef-dea4-f42263532212"
      },
      "outputs": [
        {
          "output_type": "stream",
          "name": "stdout",
          "text": [
            "Overwriting main.cu\n"
          ]
        }
      ],
      "source": [
        "%%writefile main.cu\n",
        "#include <stdio.h>\n",
        "#include <curand_kernel.h>\n",
        "#include <cuda_runtime.h>\n",
        "#include <math.h>\n",
        "\n",
        "__global__ void initParticles(int N, double *pos, double *vel, double *mass) {\n",
        "  // this is a kernel and will be called with params<<<grid_dimensions, block_dimensions>>>\n",
        "  int idx = (blockIdx.x * blockDim.x) + threadIdx.x;\n",
        "  // printf(\"%d\\n\", idx);\n",
        "  if (idx >= N) return;\n",
        "\n",
        "  curandState state;\n",
        "  curand_init(1234ULL, idx, 0, &state);\n",
        "\n",
        "  pos[3*idx] = curand_uniform_double(&state);\n",
        "  pos[3*idx + 1] = curand_uniform_double(&state);\n",
        "  pos[3*idx + 2] = curand_uniform_double(&state);\n",
        "\n",
        "  vel[3*idx] = 0.0;\n",
        "  vel[3*idx + 1] = 0.0;\n",
        "  vel[3*idx + 2] = 0.0;\n",
        "\n",
        "  mass[idx] = 1.0 + curand_uniform_double(&state);\n",
        "}\n",
        "\n",
        "__global__ void getAcceleration(int N, double *pos, double *vel, double *mass, double *acc) {\n",
        "  int idx = (blockIdx.x * blockDim.x) + threadIdx.x;\n",
        "  if (idx >= N) return;\n",
        "\n",
        "  double G = 6.6743e-11;\n",
        "  // F = Gm1m2/|r|^2 * r/|r|\n",
        "  // a1 = Gm2r/|r|^3\n",
        "  // with softening -> a1 = Gm2r/(|r|^2 + eps^2)^(3/2)\n",
        "  double sum[3];\n",
        "  sum[0] = 0.0;\n",
        "  sum[1] = 0.0;\n",
        "  sum[2] = 0.0;\n",
        "  double p1 = pos[3*idx];\n",
        "  double r[3];\n",
        "  double m2;\n",
        "  double magSquared;\n",
        "  double val;\n",
        "  double pos_i_x = pos[3*idx];\n",
        "  double pos_i_y = pos[(3*idx)+1];\n",
        "  double pos_i_z = pos[(3*idx)+2];\n",
        "  // TODO: get tile and implement shared memory here\n",
        "  for (int i = 0; i < N; i++) {\n",
        "    m2 = mass[i];\n",
        "    r[0] = pos[3*i] - pos_i_x;\n",
        "    r[1] = pos[(3*i)+1] - pos_i_y;\n",
        "    r[2] = pos[(3*i)+2] - pos_i_z;\n",
        "    magSquared = (r[0]*r[0]) + (r[1]*r[1]) + (r[2]*r[2]);\n",
        "    val = m2 / sqrt(pow(magSquared + EPS2, 3));\n",
        "    sum[0] += r[0] * val;\n",
        "    sum[1] += r[1] * val;\n",
        "    sum[2] += r[2] * val;\n",
        "  }\n",
        "  acc[3*idx] = G * sum[0];\n",
        "  acc[3*idx + 1] = G * sum[1];\n",
        "  acc[3*idx + 2] = G * sum[2];\n",
        "}\n",
        "\n",
        "int main() {\n",
        "  printf(\"hello from colab GPU!\\n\");\n",
        "  int N = 1000;\n",
        "  double *d_pos, *d_vel, *d_mass, *d_acc;\n",
        "  cudaMalloc(&d_pos, 3*N*sizeof(double));\n",
        "  cudaMalloc(&d_vel, 3*N*sizeof(double));\n",
        "  cudaMalloc(&d_mass, N*sizeof(double));\n",
        "  cudaMalloc(&d_acc, 3*N*sizeof(double));\n",
        "\n",
        "  // one thread per particle\n",
        "  int blockSize = 256;\n",
        "  int numBlocks = (N + blockSize - 1)/blockSize; // same as ceil(N/blockSize)\n",
        "  initParticles<<<numBlocks, blockSize>>>(N, d_pos, d_vel, d_mass);\n",
        "  getAcceleration<<<numBlocks, blockSize>>>(N, d_pos, d_vel, d_mass, d_acc);\n",
        "  cudaError_t err = cudaGetLastError();\n",
        "  if (err != cudaSuccess) {\n",
        "    printf(\"CUDA error: %s\\n\", cudaGetErrorString(err));\n",
        "  }\n",
        "  cudaDeviceSynchronize();\n",
        "\n",
        "  // sample of initial velocities and positions\n",
        "  double s_pos[15], s_vel[15], s_mass[5]; // for 5 particles\n",
        "  cudaMemcpy(s_pos, d_pos, 15*sizeof(double), cudaMemcpyDeviceToHost);\n",
        "  cudaMemcpy(s_vel, d_vel, 15*sizeof(double), cudaMemcpyDeviceToHost);\n",
        "  cudaMemcpy(s_mass, d_mass, 5*sizeof(double), cudaMemcpyDeviceToHost);\n",
        "\n",
        "  for (int i = 0; i < 5; i++) {\n",
        "    printf(\"particle with mass %.4f at position (%.2f, %.2f, %.2f) with velocity (%.2f, %.2f, %.2f)\\n\",\n",
        "    s_mass[i],\n",
        "    s_pos[3*i], s_pos[(3*i)+1], s_pos[(3*i)+2],\n",
        "    s_vel[3*i], s_vel[(3*i)+1], s_vel[(3*i)+2]\n",
        "    );\n",
        "  }\n",
        "\n",
        "  return 0;\n",
        "}"
      ]
    },
    {
      "cell_type": "code",
      "source": [
        "!nvcc -arch=sm_75 main.cu -o main"
      ],
      "metadata": {
        "colab": {
          "base_uri": "https://localhost:8080/"
        },
        "id": "FG0P5A2BpRe9",
        "outputId": "c2d3d8a5-4a92-4dd1-d653-a458ccf8338f"
      },
      "execution_count": 4,
      "outputs": [
        {
          "output_type": "stream",
          "name": "stdout",
          "text": [
            "\u001b[01m\u001b[0m\u001b[01mmain.cu(46)\u001b[0m: \u001b[01;31merror\u001b[0m: identifier \"\u001b[01mEPS2\u001b[0m\" is undefined\n",
            "      val = m2 / pow(magSquared + EPS2, 3/2);\n",
            "                                  ^\n",
            "\n",
            "1 error detected in the compilation of \"main.cu\".\n"
          ]
        }
      ]
    },
    {
      "cell_type": "code",
      "source": [
        "!./main"
      ],
      "metadata": {
        "colab": {
          "base_uri": "https://localhost:8080/"
        },
        "id": "2QApQnTfpZQf",
        "outputId": "717db9ee-906a-479f-e2af-fb5fed219b52"
      },
      "execution_count": null,
      "outputs": [
        {
          "output_type": "stream",
          "name": "stdout",
          "text": [
            "hello from colab GPU!\n",
            "particle with mass 1.7867 at position (0.43, 0.46, 0.58) with velocity (0.00, 0.00, 0.00)\n",
            "particle with mass 1.7993 at position (0.93, 0.54, 0.02) with velocity (0.00, 0.00, 0.00)\n",
            "particle with mass 1.0938 at position (0.81, 0.74, 0.20) with velocity (0.00, 0.00, 0.00)\n",
            "particle with mass 1.9946 at position (0.31, 0.54, 0.90) with velocity (0.00, 0.00, 0.00)\n",
            "particle with mass 1.9569 at position (0.56, 0.06, 0.71) with velocity (0.00, 0.00, 0.00)\n"
          ]
        }
      ]
    }
  ]
}